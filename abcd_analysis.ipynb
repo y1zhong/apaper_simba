{
 "cells": [
  {
   "cell_type": "code",
   "execution_count": 1,
   "id": "60cb375c",
   "metadata": {},
   "outputs": [
    {
     "name": "stderr",
     "output_type": "stream",
     "text": [
      "pixdim[1,2,3] should be non-zero; setting 0 dims to 1\n"
     ]
    }
   ],
   "source": [
    "import nibabel as nib\n",
    "import numpy as np\n",
    "from model.utils import *\n",
    "from model.helper import generate_grids, get_basis, scale\n",
    "import torch\n",
    "from sklearn.gaussian_process.kernels import RBF, Matern\n",
    "import matplotlib.pyplot as plt\n",
    "import model.SIMBA_VI as SIMBA_VI\n",
    "import model.SIMBA_Gibbs as SIMBA_Gibbs\n",
    "import pandas as pd\n",
    "import nibabel as nib\n",
    "import nilearn.plotting as plotting\n",
    "import hcp_utils as hcp"
   ]
  },
  {
   "cell_type": "code",
   "execution_count": 2,
   "id": "0108fc71",
   "metadata": {},
   "outputs": [],
   "source": [
    "path = f\"data/abcd\"\n",
    "\n",
    "time = \"baseline\"\n",
    "hemi='left'"
   ]
  },
  {
   "cell_type": "code",
   "execution_count": 3,
   "id": "8ed678cb",
   "metadata": {},
   "outputs": [
    {
     "data": {
      "image/png": "[encoded data removed]",
      "text/html": [
       "<div style=\"vertical-align: middle;\"><strong>gangchen</strong> </div><div class=\"cmap\"><img alt=\"gangchen colormap\" title=\"gangchen\" style=\"border: 1px solid #555;\" src=\"data:image/png;base64,iVBORw0KGgoAAAANSUhEUgAAAgAAAABACAYAAABsv8+/AAAAF3RFWHRUaXRsZQBnYW5nY2hlbiBjb2xvcm1hcNFyW9kAAAAddEVYdERlc2NyaXB0aW9uAGdhbmdjaGVuIGNvbG9ybWFw+Ay88AAAADB0RVh0QXV0aG9yAE1hdHBsb3RsaWIgdjMuOS4yLCBodHRwczovL21hdHBsb3RsaWIub3JnYZnFUwAAADJ0RVh0U29mdHdhcmUATWF0cGxvdGxpYiB2My45LjIsIGh0dHBzOi8vbWF0cGxvdGxpYi5vcmdPP1p0AAABt0lEQVR4nO3WWU4CQRRA0YfaO9D9L1B34IAfNjEKGlCDxnvOT6Wrx6IScjcz2+3MzFzMfDpefvN8/Tk/9b6/tq6/9px/8jsv8zQzM9cPDzMzc7Mb7+8Pz6/j9Xp+b34dj3V1dbeOt2/GZTk8v7t+WQ7Pb+blu9ZlzfZp8+54ffE6/3r80fVvj09/7rHvOe3+r37/3nMfv3f/b63/+H352f0/fV/Os/6P9+W869/fl5fj3d8PABAiAAAgSAAAQJAAAIAgAQAAQQIAAIIEAAAECQAACBIAABAkAAAgSAAAQJAAAIAgAQAAQQIAAIIEAAAECQAACBIAABAkAAAgSAAAQJAAAIAgAQAAQQIAAIIEAAAECQAACBIAABAkAAAgSAAAQJAAAIAgAQAAQQIAAIIEAAAECQAACBIAABAkAAAgSAAAQJAAAIAgAQAAQQIAAIIEAAAECQAACBIAABAkAAAgSAAAQJAAAIAgAQAAQQIAAIIEAAAECQAACBIAABAkAAAgSAAAQJAAAIAgAQAAQQIAAIIEAAAECQAACBIAABAkAAAgSAAAQJAAAIAgAQAAQQIAAIIEAAAEPQNuZ8mLHokeFwAAAABJRU5ErkJggg==\"></div><div style=\"vertical-align: middle; max-width: 514px; display: flex; justify-content: space-between;\"><div style=\"float: left;\"><div title=\"#0000ffff\" style=\"display: inline-block; width: 1em; height: 1em; margin: 0; vertical-align: middle; border: 1px solid #555; background-color: #0000ffff;\"></div> under</div><div style=\"margin: 0 auto; display: inline-block;\">bad <div title=\"#00000000\" style=\"display: inline-block; width: 1em; height: 1em; margin: 0; vertical-align: middle; border: 1px solid #555; background-color: #00000000;\"></div></div><div style=\"float: right;\">over <div title=\"#c9182bff\" style=\"display: inline-block; width: 1em; height: 1em; margin: 0; vertical-align: middle; border: 1px solid #555; background-color: #c9182bff;\"></div></div></div>"
      ],
      "text/plain": [
       "<matplotlib.colors.LinearSegmentedColormap at 0x1056c0500>"
      ]
     },
     "execution_count": 3,
     "metadata": {},
     "output_type": "execute_result"
    }
   ],
   "source": [
    "from matplotlib.colors import LinearSegmentedColormap\n",
    "colors = [\"blue\",\"cyan\",\"lightgray\",\"lightgray\",\"yellow\",\"#C9182B\"]\n",
    "values = np.array([0, 0.45, 0.49, 0.51, 0.55, 1])\n",
    "cmap = LinearSegmentedColormap.from_list(\"gangchen\", list(zip(values, colors)))\n",
    "cmap"
   ]
  },
  {
   "cell_type": "code",
   "execution_count": 4,
   "id": "3315567e",
   "metadata": {},
   "outputs": [],
   "source": [
    "covariates = pd.read_csv(f'{path}/{time}_covariates.tsv', sep='\\t', header=0)\n",
    "covariates[\"site\"] = np.where(covariates[\"site\"] == 22, 1, covariates[\"site\"])\n",
    "site_ids = np.sort(covariates[\"site\"].unique())\n",
    "X = covariates.values\n",
    "#X[:,:3] = (X[:,:3] - X[:,:3].mean(axis=0)) /  X[:,:3].std(axis=0)"
   ]
  },
  {
   "cell_type": "code",
   "execution_count": 5,
   "id": "28c676e6",
   "metadata": {},
   "outputs": [
    {
     "data": {
      "text/plain": [
       "21"
      ]
     },
     "execution_count": 5,
     "metadata": {},
     "output_type": "execute_result"
    }
   ],
   "source": [
    "n_site = len(site_ids)\n",
    "n_site"
   ]
  },
  {
   "cell_type": "code",
   "execution_count": 6,
   "id": "05ef2f55",
   "metadata": {},
   "outputs": [],
   "source": [
    "Y = pd.read_csv(f'{path}/{time}_{hemi}_values.csv',header=None)\n",
    "Y = Y.values"
   ]
  },
  {
   "cell_type": "code",
   "execution_count": 7,
   "id": "23d9ce23",
   "metadata": {},
   "outputs": [],
   "source": [
    "S = pd.read_csv(f'{path}/{hemi}_grids.csv')\n",
    "S = scale(S).values"
   ]
  },
  {
   "cell_type": "code",
   "execution_count": 8,
   "id": "6cbc7661",
   "metadata": {},
   "outputs": [],
   "source": [
    "from sklearn.gaussian_process.kernels import RBF, Matern\n",
    "### specify kernel function\n",
    "ls = 0.1\n",
    "kernel = Matern(length_scale=ls, nu=1.5)"
   ]
  },
  {
   "cell_type": "code",
   "execution_count": 9,
   "id": "99252f73",
   "metadata": {},
   "outputs": [],
   "source": [
    "# full_cov = kernel(S[:10000],S[:10000])\n",
    "# U,lamb_sqrt,_ = np.linalg.svd(full_cov)\n",
    "\n",
    "# cumsum = np.cumsum(lamb_sqrt, axis=0)\n",
    "# total = np.sum(lamb_sqrt)\n",
    "# lower = np.nonzero(cumsum >= 0.8 * total)[0][0]\n",
    "# upper = np.nonzero(cumsum >= 0.98 * total)[0][0]\n",
    "# L_list = np.linspace(lower, upper,num=5, dtype=int)\n",
    "# L_list #array([ 224,  471,  719,  967, 1214, 1462, 1710, 1957, 2205, 2453])\n"
   ]
  },
  {
   "cell_type": "code",
   "execution_count": 10,
   "id": "cf7d0f94",
   "metadata": {},
   "outputs": [],
   "source": [
    "# del full_cov, U, lamb_sqrt"
   ]
  },
  {
   "cell_type": "code",
   "execution_count": 11,
   "id": "87974370",
   "metadata": {},
   "outputs": [],
   "source": [
    "dtype = torch.float32\n",
    "S = torch.from_numpy(S).to(dtype)\n",
    "Y = torch.from_numpy(Y).to(dtype)\n",
    "X = torch.from_numpy(X).to(dtype)"
   ]
  },
  {
   "cell_type": "code",
   "execution_count": 12,
   "id": "d923908e",
   "metadata": {},
   "outputs": [],
   "source": [
    "Y_site_list=[]\n",
    "X_site_list=[]\n",
    "for id in site_ids:\n",
    "    # leave one site out\n",
    "    Y_site = Y[X[:,-1] == id]\n",
    "    X_site = X[X[:,-1] == id]\n",
    "    X_site = X_site[:,:-1]\n",
    "    Y_site_list.append(Y_site)\n",
    "    X_site_list.append(X_site)"
   ]
  },
  {
   "cell_type": "code",
   "execution_count": 13,
   "id": "1581c2ad",
   "metadata": {},
   "outputs": [],
   "source": [
    "site_data=[]\n",
    "siteloo_data=[]\n",
    "for id in site_ids:\n",
    "    # leave one site out\n",
    "    Y_site = Y_site_list[id-1]\n",
    "    X_site = X_site_list[id-1]\n",
    "\n",
    "    Y_loo = torch.cat(Y_site_list[:id-1] + Y_site_list[id:])\n",
    "    X_loo = torch.cat(X_site_list[:id-1] + X_site_list[id:])\n",
    "\n",
    "    site_data.append({'X': X_site,\n",
    "            'Y': Y_site})\n",
    "    siteloo_data.append({'X': X_loo,\n",
    "            'Y': Y_loo})"
   ]
  },
  {
   "cell_type": "code",
   "execution_count": 14,
   "id": "4bc2b5f5",
   "metadata": {},
   "outputs": [
    {
     "data": {
      "text/plain": [
       "tensor([[ 0.1889, -0.5257, 10.8333,  1.0000],\n",
       "        [ 0.9555,  1.1416,  9.3333,  0.0000],\n",
       "        [ 0.1453,  0.5156, 10.2500,  0.0000],\n",
       "        ...,\n",
       "        [ 0.8114, -0.1224, 10.3333,  1.0000],\n",
       "        [ 0.0753, -0.0733,  9.0000,  0.0000],\n",
       "        [ 0.8718, -0.1032, 10.9167,  0.0000]])"
      ]
     },
     "execution_count": 14,
     "metadata": {},
     "output_type": "execute_result"
    }
   ],
   "source": [
    "X = X[:,:4]\n",
    "X"
   ]
  },
  {
   "cell_type": "code",
   "execution_count": 15,
   "id": "529ec02b",
   "metadata": {},
   "outputs": [],
   "source": [
    "# N, V = Y.shape\n",
    "# n_ind = torch.arange(0,N)\n",
    "# vi_results = []\n",
    "# for L in L_list:\n",
    "#     print(L)\n",
    "#     L_eta = int(0.1*L)\n",
    "#     mse = []\n",
    "#     mae = []\n",
    "#     for site in range(n_site):\n",
    "#         X_train = site_data[site]['X']\n",
    "#         Y_train = site_data[site]['Y']\n",
    "#         X_train = torch.column_stack((torch.ones(X_train.shape[0]), X_train))\n",
    "#         X_test = siteloo_data[site]['X']\n",
    "#         Y_test = siteloo_data[site]['Y']\n",
    "#         X_test = torch.column_stack((torch.ones(X_test.shape[0]), X_test))\n",
    "    \n",
    "#         model = SIMBA_VI.SIMBA_VI(Y=Y_train, X= X_train, grids=S,\n",
    "#                                  kernel = kernel, L = L, L_eta = L_eta, \n",
    "#                                  verbose=-1, include_intercept=True)\n",
    "#         paras, profile = model.run(verbose=False)\n",
    "\n",
    "#         Y_pred =  (X_test @ paras['E_alpha'])[:,None] + X_test@(paras['E_theta_beta'] @ model.basis.t())\n",
    "#         mse.append(((Y_pred - Y_test) ** 2).mean())\n",
    "#         mae.append((Y_pred - Y_test).abs().mean())\n",
    "#         del model\n",
    "#     vi_results.append({'L': L, 'MSE': np.round(np.mean(mse),2)})"
   ]
  },
  {
   "cell_type": "code",
   "execution_count": 16,
   "id": "b954ae5f",
   "metadata": {},
   "outputs": [],
   "source": [
    "#vi_results\n",
    "#[{'L': 186, 'MSE': 4.52},\n",
    "#  {'L': 430, 'MSE': 4.41},\n",
    "#  {'L': 675, 'MSE': 4.39},\n",
    "#  {'L': 919, 'MSE': 4.4},\n",
    "#  {'L': 1164, 'MSE': 4.4}]"
   ]
  },
  {
   "cell_type": "code",
   "execution_count": 17,
   "id": "6aa4f747",
   "metadata": {},
   "outputs": [],
   "source": [
    "import model.SIMBA_VI as SIMBA_VI\n",
    "import importlib\n",
    "SIMBA_VI = importlib.reload(SIMBA_VI) "
   ]
  },
  {
   "cell_type": "code",
   "execution_count": 18,
   "id": "69ca7c6f",
   "metadata": {},
   "outputs": [],
   "source": [
    "L = 675\n",
    "L_eta = int(0.1*L)\n",
    "model = SIMBA_VI.SIMBA_VI(Y=Y, X= X, grids=S,\n",
    "                        kernel = kernel, L = L, L_eta = L_eta, \n",
    "                        verbose=-1, include_intercept=True)\n",
    "paras, profile = model.run(verbose=False)\n",
    "voxel_mcmc = model.post_samples(n_mcmc=1000)"
   ]
  },
  {
   "cell_type": "code",
   "execution_count": 19,
   "id": "fabf8302",
   "metadata": {},
   "outputs": [],
   "source": [
    "pp = (((( voxel_mcmc > 0) * 1.0).mean(dim=(0))) - 0.5) * 2\n",
    "voxel_select = (pp.abs() > 0.99) * 1\n",
    "voxel_est= voxel_mcmc.reshape(-1, model.J, model.V).mean(dim=0)\n",
    "main_eff = voxel_est * voxel_select"
   ]
  },
  {
   "cell_type": "markdown",
   "id": "e26acb29",
   "metadata": {},
   "source": [
    "#### Visaulization"
   ]
  },
  {
   "cell_type": "code",
   "execution_count": 20,
   "id": "075fb54e",
   "metadata": {},
   "outputs": [
    {
     "name": "stderr",
     "output_type": "stream",
     "text": [
      "/var/folders/_5/n4pn07p954s_9x6bwyrrptq40000gn/T/ipykernel_5328/1897316350.py:12: DeprecationWarning: The `darkness` parameter will be deprecated in release 0.13. We recommend setting `darkness` to None\n",
      "  fig = plotting.plot_surf_stat_map(\n"
     ]
    },
    {
     "data": {
      "image/png": "[encoded data removed]",
      "text/plain": [
       "<Figure size 470x500 with 2 Axes>"
      ]
     },
     "metadata": {},
     "output_type": "display_data"
    }
   ],
   "source": [
    "template_file = f'{path}/NDARINV0A4ZDYNL_zstat11.dtseries.nii'\n",
    "img = nib.load(template_file)\n",
    "x = img.get_fdata()\n",
    "x[0,:]=np.nan\n",
    "if hemi == \"left\":\n",
    "    x[0,hcp.struct.cortex_left] = main_eff[1]\n",
    "else:\n",
    "    x[0,hcp.struct.cortex_right] = main_eff[1]\n",
    "x_abs = np.abs(x[hcp.struct.cortex])\n",
    "x_abs_min = x_abs[x_abs > 0].min()\n",
    "x_abs_max = x_abs[x_abs > 0].max()\n",
    "fig = plotting.plot_surf_stat_map(\n",
    "                hcp.mesh.inflated, hcp.cortex_data(x[0]),\n",
    "                bg_map=hcp.mesh.sulc,cmap=cmap,\n",
    "                threshold=x_abs_min,colorbar=True,\n",
    "                vmax=1.2,vmin=-1.2 ,\n",
    "                hemi=hemi)\n",
    "#fig.savefig(f'plots/abcd/{time}_{hemi}_SIMBA_VI_cog_allsite_mean.png', dpi=300)"
   ]
  },
  {
   "cell_type": "markdown",
   "id": "4f2ec0e1",
   "metadata": {},
   "source": [
    "#### PPC curves"
   ]
  },
  {
   "cell_type": "code",
   "execution_count": null,
   "id": "af73d6ca",
   "metadata": {},
   "outputs": [],
   "source": [
    "ppc = model.PPC(n_mcmc=30, dtype=torch.float16)"
   ]
  },
  {
   "cell_type": "code",
   "execution_count": 22,
   "id": "a627c14d",
   "metadata": {},
   "outputs": [
    {
     "data": {
      "text/plain": [
       "tensor([[ 1.0000,  0.1889, -0.5257, 10.8333,  1.0000],\n",
       "        [ 1.0000,  0.9555,  1.1416,  9.3333,  0.0000],\n",
       "        [ 1.0000,  0.1453,  0.5156, 10.2500,  0.0000],\n",
       "        ...,\n",
       "        [ 1.0000,  0.8114, -0.1224, 10.3333,  1.0000],\n",
       "        [ 1.0000,  0.0753, -0.0733,  9.0000,  0.0000],\n",
       "        [ 1.0000,  0.8718, -0.1032, 10.9167,  0.0000]])"
      ]
     },
     "execution_count": 22,
     "metadata": {},
     "output_type": "execute_result"
    }
   ],
   "source": [
    "model.X"
   ]
  },
  {
   "cell_type": "code",
   "execution_count": null,
   "id": "96c0cc37",
   "metadata": {},
   "outputs": [],
   "source": [
    "from fastkde import fastKDE\n",
    "## takes about 3 mins for 100 draws\n",
    "\n",
    "for i in range(ppc.shape[0]):\n",
    "    density = fastKDE.pdf(ppc[i].reshape(-1),ecf_precision=1) # flat to vector\n",
    "    density.plot(alpha=0.2, color=\"#E69F00\", label='Posterior predictive' if i == 0 else None)\n",
    "data_den= fastKDE.pdf(Y.reshape(-1),ecf_precision=1)\n",
    "data_den.plot(alpha=1.0, color=\"black\", label='Observed data')\n",
    "plt.xlim(-10, 10)  \n",
    "plt.ylabel('')\n",
    "plt.xlabel('')\n",
    "# plt.xticks(fontsize=12)\n",
    "# plt.yticks(fontsize=12)\n",
    "\n",
    "plt.xticks(np.linspace(-10, 10, 5), fontsize=18)\n",
    "plt.yticks(np.linspace(0, 0.2, 6),fontsize=18)\n",
    "# Add legend (only one entry for grey lines)\n",
    "# plt.legend(\n",
    "#     loc='upper center',\n",
    "#     fontsize=12,\n",
    "#     bbox_to_anchor=(0.5, 1.15),  # center above axes\n",
    "#     ncol=2,                      # number of legend columns\n",
    "#     frameon=False                # no border\n",
    "# )\n",
    "\n",
    "plt.savefig(f'plot/SIMBA_VI_ppc_J{L}_Jeta{L_eta}.png', dpi=300, bbox_inches='tight')  \n",
    "plt.show()"
   ]
  },
  {
   "cell_type": "code",
   "execution_count": null,
   "id": "05eb3900",
   "metadata": {},
   "outputs": [],
   "source": [
    "import model.SIMBA_Gibbs as SIMBA_Gibbs\n",
    "model = SIMBA_Gibbs.SIMBA_Gibbs( Y=Y,\n",
    "    grids=S, kernel=kernel, X = X,include_intercept=True,\n",
    "    L = L, L_eta = L_eta,\n",
    "    burnin=3000,\n",
    "    mcmc_sample=1000,\n",
    "    thin=1,\n",
    "    dtype=dtype)\n",
    "samples = model.run(n_chains=3, parallel = False)"
   ]
  },
  {
   "cell_type": "code",
   "execution_count": null,
   "id": "e95a0540",
   "metadata": {},
   "outputs": [],
   "source": [
    "voxel_mcmc = samples['alpha'][:,:,:,None] + samples['theta_beta'] @ model.basis.t()\n",
    "pp = (((( voxel_mcmc > 0) * 1.0).mean(dim=(0,1))) - 0.5) * 2\n",
    "voxel_select = (pp.abs() > 0.99) * 1\n",
    "voxel_est= voxel_mcmc.reshape(-1, model.J, model.V).mean(dim=0)\n",
    "main_eff = voxel_est * voxel_select"
   ]
  },
  {
   "cell_type": "code",
   "execution_count": null,
   "id": "54e0f7ab",
   "metadata": {},
   "outputs": [],
   "source": [
    "x[0,:]=np.nan\n",
    "if hemi == \"left\":\n",
    "    x[0,hcp.struct.cortex_left] = main_eff[1]\n",
    "else:\n",
    "    x[0,hcp.struct.cortex_right] = main_eff[1]\n",
    "x_abs = np.abs(x[hcp.struct.cortex])\n",
    "x_abs_min = x_abs[x_abs > 0].min()\n",
    "x_abs_max = x_abs[x_abs > 0].max()\n",
    "fig = plotting.plot_surf_stat_map(\n",
    "                hcp.mesh.inflated, hcp.cortex_data(x[0]),\n",
    "                bg_map=hcp.mesh.sulc,cmap=cmap,\n",
    "                threshold=x_abs_min,colorbar=True,\n",
    "                vmax=1.2,  vmin=-1.2, \n",
    "                hemi=hemi)\n",
    "#fig.savefig(f'plots/{time}_{hemi}_Gibbs_mean.png', dpi=300)"
   ]
  },
  {
   "cell_type": "code",
   "execution_count": null,
   "id": "e05ab14e",
   "metadata": {},
   "outputs": [],
   "source": [
    "from fastkde import fastKDE\n",
    "for i in range(ppc.shape[0]):\n",
    "    density = fastKDE.pdf(ppc[i].reshape(-1),ecf_precision=1) # flat to vector\n",
    "    density.plot(alpha=0.2, color=\"#E69F00\", label='Posterior predictive' if i == 0 else None)\n",
    "data_den= fastKDE.pdf(Y.reshape(-1),ecf_precision=1)\n",
    "data_den.plot(alpha=1.0, color=\"black\", label='Observed data')\n",
    "plt.xlim(-10, 10)  \n",
    "plt.ylabel('')\n",
    "plt.xlabel('')\n",
    "# plt.xticks(fontsize=12)\n",
    "# plt.yticks(fontsize=12)\n",
    "\n",
    "plt.xticks(np.linspace(-10, 10, 5), fontsize=18)\n",
    "plt.yticks(np.linspace(0, 0.2, 6),fontsize=18)\n",
    "# Add legend (only one entry for grey lines)\n",
    "# plt.legend(\n",
    "#     loc='upper center',\n",
    "#     fontsize=12,\n",
    "#     bbox_to_anchor=(0.5, 1.15),  # center above axes\n",
    "#     ncol=2,                      # number of legend columns\n",
    "#     frameon=False                # no border\n",
    "# )\n",
    "\n",
    "plt.savefig(f'plots/abcd/BGLM_ppc.png', dpi=300, bbox_inches='tight')  \n",
    "plt.show()"
   ]
  }
 ],
 "metadata": {
  "kernelspec": {
   "display_name": ".venv",
   "language": "python",
   "name": "python3"
  },
  "language_info": {
   "codemirror_mode": {
    "name": "ipython",
    "version": 3
   },
   "file_extension": ".py",
   "mimetype": "text/x-python",
   "name": "python",
   "nbconvert_exporter": "python",
   "pygments_lexer": "ipython3",
   "version": "3.12.4"
  }
 },
 "nbformat": 4,
 "nbformat_minor": 5
}
